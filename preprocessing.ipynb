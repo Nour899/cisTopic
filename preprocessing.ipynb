{
 "cells": [
  {
   "cell_type": "code",
   "execution_count": 1,
   "metadata": {},
   "outputs": [],
   "source": [
    "import scanpy as sc\n",
    "import numpy as np\n",
    "import torch\n",
    "import warnings\n",
    "warnings.filterwarnings(\"ignore\")"
   ]
  },
  {
   "cell_type": "code",
   "execution_count": 2,
   "metadata": {},
   "outputs": [],
   "source": [
    "import sys\n",
    "sys.path.append('/data/nelkazwi/code/cisTopic/')\n",
    "from cisTopic import cisTopic\n"
   ]
  },
  {
   "cell_type": "code",
   "execution_count": 13,
   "metadata": {},
   "outputs": [],
   "source": [
    "path = '/data/nelkazwi/RNA_velo/Unitvelo_atac/HSPC/'\n",
    "adata_atac = sc.read(path+\"ATAC_data.h5ad\")"
   ]
  },
  {
   "cell_type": "code",
   "execution_count": 5,
   "metadata": {},
   "outputs": [],
   "source": [
    "n_samples = 3000\n",
    "n_burnin = 10\n",
    "T = 30\n",
    "n_b_samples = int(n_samples/n_burnin)\n",
    "batch_size = 500\n",
    "alpha = 50/T\n",
    "beta = 0.1\n",
    "\n",
    "\n",
    "cis_t = cisTopic(adata_atac, T, alpha, beta)"
   ]
  },
  {
   "cell_type": "code",
   "execution_count": null,
   "metadata": {},
   "outputs": [],
   "source": [
    "if torch.cuda.is_available():\n",
    "    device='cuda'\n",
    "else:\n",
    "    device='cpu'\n",
    "print(f'Running on: {device}')\n",
    "\n",
    "theta, phi = cis_t.fit(batch_size, n_samples, n_burnin, dev=device, save_data=False)"
   ]
  },
  {
   "cell_type": "code",
   "execution_count": 12,
   "metadata": {},
   "outputs": [],
   "source": [
    "\n",
    "path_samples = '/scratch/nelkazwi/RNA_velo/Unitvelo_atac/HSPC/30_topics/'\n",
    "\n",
    "theta=torch.load(path_samples+\"theta_ATAC_\"+str(T)+\".txt\",map_location=torch.device('cpu'))\n",
    "m=theta[50:,:,:].mean(axis=0)\n",
    "m=m/m.sum(axis=1)[:,np.newaxis] \n",
    "\n",
    "phi = torch.load(path_samples+\"phi_ATAC_\"+str(T)+\".txt\",map_location=torch.device('cpu'))\n",
    "m_phi = phi[50:,:,:].mean(axis=0)\n",
    "m_phi =m_phi /m_phi.sum(axis=1)[:,np.newaxis]"
   ]
  },
  {
   "cell_type": "code",
   "execution_count": 16,
   "metadata": {},
   "outputs": [],
   "source": [
    "p = torch.matmul(m,m_phi)\n",
    "adata_atac.obsm[\"cisTopic\"] = p.numpy()\n",
    "adata_atac.write_h5ad(\"UniTVelo-ATAC/notebooks/data/HSPC_dataset/HSPC_adata_atac.h5ad\")"
   ]
  }
 ],
 "metadata": {
  "kernelspec": {
   "display_name": "unitvelo",
   "language": "python",
   "name": "python3"
  },
  "language_info": {
   "codemirror_mode": {
    "name": "ipython",
    "version": 3
   },
   "file_extension": ".py",
   "mimetype": "text/x-python",
   "name": "python",
   "nbconvert_exporter": "python",
   "pygments_lexer": "ipython3",
   "version": "3.12.2"
  }
 },
 "nbformat": 4,
 "nbformat_minor": 2
}
